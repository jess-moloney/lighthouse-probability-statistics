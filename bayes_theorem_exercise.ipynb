{
 "cells": [
  {
   "cell_type": "markdown",
   "metadata": {
    "ExecuteTime": {
     "end_time": "2020-02-05T17:56:18.818219Z",
     "start_time": "2020-02-05T17:56:18.810698Z"
    }
   },
   "source": [
    "## Exercise 1\n",
    "In Orange County, 51% of the adults are males. (It doesn't take too much advanced\n",
    "mathematics to deduce that the other 49% are females.) One adult is randomly selected\n",
    "for a survey involving credit card usage.\n",
    "\n",
    "- **(a)** Find the probability that the selected person is a male.\n",
    "\n",
    "- **(b)** It is later learned that the selected survey subject was smoking a cigar. Also, 9.5% of males smoke cigars, whereas 1.7% of females smoke cigars (based on data from the Substance Abuse and Mental Health Services Administration). Use this additional information to find the probability that the cigar−smoking respondent is a male\n",
    "\n",
    "Use following notation:\n",
    "M = male <br>\n",
    "F = female <br>\n",
    "C = cigar smoker<br>\n",
    "NC = not a cigar smoker<br>\n"
   ]
  },
  {
   "cell_type": "code",
   "execution_count": 1,
   "metadata": {},
   "outputs": [],
   "source": [
    "# a - probability that the person selected is a male = 51%"
   ]
  },
  {
   "cell_type": "code",
   "execution_count": 41,
   "metadata": {},
   "outputs": [
    {
     "name": "stdout",
     "output_type": "stream",
     "text": [
      "Subject is a male: 50.349999999999994%\n",
      "Subject is a female: 49.65%\n"
     ]
    }
   ],
   "source": [
    "# a - probability that the person selected is a male\n",
    "import numpy as np\n",
    "\n",
    "n_runs = 10000\n",
    "M = 0\n",
    "F = 0\n",
    "C = 0\n",
    "NC = 0\n",
    "\n",
    "for _ in range(n_runs):\n",
    "    if np.random.random() < 0.51:\n",
    "        M += 1\n",
    "    else:\n",
    "        F += 1\n",
    "\n",
    "P_M = M / n_runs * 100\n",
    "P_F = F / n_runs * 100\n",
    "print(f'Subject is a male: {P_M}%')\n",
    "print(f'Subject is a female: {P_F}%')"
   ]
  },
  {
   "cell_type": "code",
   "execution_count": 42,
   "metadata": {},
   "outputs": [
    {
     "name": "stdout",
     "output_type": "stream",
     "text": [
      "Subject is a male: 51.24999999999999%\n",
      "Subject is a female: 48.75%\n",
      "Subject is a cigar-smoker: 5.48%\n",
      "Subject is a non-smoker: 94.52000000000001%\n",
      "Subject is a male cigar-smoker: 4.74%\n",
      "Subject is a male non-smoker: 46.51%\n",
      "Subject is a female cigar-smoker: 0.74%\n",
      "Subject is a female non-smoker: 48.010000000000005%\n"
     ]
    }
   ],
   "source": [
    "# a - probability that the person selected is a male given they are a cigar smoker\n",
    "n_runs = 10000\n",
    "M = 0\n",
    "F = 0\n",
    "C = 0\n",
    "NC = 0\n",
    "MC = 0\n",
    "MNC = 0\n",
    "FC = 0\n",
    "FNC = 0\n",
    "\n",
    "for _ in range(n_runs):\n",
    "    if np.random.random() < 0.51:\n",
    "        M +=1\n",
    "        \n",
    "        if np.random.random() < .095:\n",
    "            MC += 1\n",
    "            C += 1\n",
    "        \n",
    "        else:\n",
    "            MNC += 1\n",
    "            NC += 1\n",
    "    \n",
    "    else:\n",
    "        F += 1\n",
    "        \n",
    "        if np.random.random() < 0.017:\n",
    "            FC += 1\n",
    "            C += 1\n",
    "        \n",
    "        else:\n",
    "            FNC += 1\n",
    "            NC += 1\n",
    "\n",
    "P_M = M / n_runs * 100\n",
    "P_F = F / n_runs * 100\n",
    "P_C = C / n_runs * 100\n",
    "P_NC = NC / n_runs * 100\n",
    "P_MC = MC / n_runs * 100\n",
    "P_MNC = MNC / n_runs * 100\n",
    "P_FC = FC / n_runs * 100\n",
    "P_FNC = FNC / n_runs * 100\n",
    "print(f'Subject is a male: {P_M}%')\n",
    "print(f'Subject is a female: {P_F}%')\n",
    "print(f'Subject is a cigar-smoker: {P_C}%')\n",
    "print(f'Subject is a non-smoker: {P_NC}%')\n",
    "print(f'Subject is a male cigar-smoker: {P_MC}%')\n",
    "print(f'Subject is a male non-smoker: {P_MNC}%')\n",
    "print(f'Subject is a female cigar-smoker: {P_FC}%')\n",
    "print(f'Subject is a female non-smoker: {P_FNC}%')"
   ]
  },
  {
   "cell_type": "code",
   "execution_count": 43,
   "metadata": {},
   "outputs": [
    {
     "name": "stdout",
     "output_type": "stream",
     "text": [
      "The probability the subject is a male given they are a cigar smoker is 86.4963503649635%\n"
     ]
    }
   ],
   "source": [
    "P_M_GIVEN_C = P_MC / P_C * 100\n",
    "print(f'The probability the subject is a male given they are a cigar smoker is {P_M_GIVEN_C}%')"
   ]
  },
  {
   "cell_type": "markdown",
   "metadata": {
    "ExecuteTime": {
     "end_time": "2020-02-05T17:56:20.532960Z",
     "start_time": "2020-02-05T17:56:20.525450Z"
    }
   },
   "source": [
    "# Exercise 2\n",
    "\n",
    "A diagnostic test has a probability 0.95 of giving a positive result when applied to a person suffering\n",
    "from a certain disease, and a probability 0.10 of giving a (false) positive when applied to a non-sufferer. It is\n",
    "estimated that 0.5 % of the population are sufferers. Suppose that the test is now administered to a person about\n",
    "whom we have no relevant information relating to the disease (apart from the fact that he/she comes from this\n",
    "population). \n",
    "\n",
    "Calculate the following probabilities:\n",
    "- **(a)** that the test result will be positive;\n",
    "- **(b)** that, given a positive result, the person is a sufferer;\n",
    "- **(c)** that, given a negative result, the person is a non-sufferer;\n",
    "- **(d)** that the person will be misclassified.\n",
    "\n",
    "Use following notation:\n",
    "\n",
    "T = test positive <br>\n",
    "NT = test negative<br>\n",
    "S = sufferer<br>\n",
    "NS = non-sufferer<br>\n",
    "M = misclassified<br>\n",
    "\n",
    "Solve it by two approaches:\n",
    "1. Arithmetically\n",
    "2. By simulation"
   ]
  },
  {
   "cell_type": "code",
   "execution_count": 44,
   "metadata": {},
   "outputs": [
    {
     "data": {
      "text/plain": [
       "0.14250000000000002"
      ]
     },
     "execution_count": 44,
     "metadata": {},
     "output_type": "execute_result"
    }
   ],
   "source": [
    "# calculate the probability that the test result will be positive\n",
    "\n",
    "NT = 1-T\n",
    "S = 0.05\n",
    "NS = 0.95\n",
    "M = 0\n",
    "T_GIVEN_S = 0.95\n",
    "T_GIVEN_NS = 0.1\n",
    "NT_GIVEN_NS = 1 - T_GIVEN_NS\n",
    "NT_GIVEN_S = 1 - T_GIVEN_S\n",
    "\n",
    "T = S*T_GIVEN_S + NS*T_GIVEN_NS\n",
    "T"
   ]
  },
  {
   "cell_type": "code",
   "execution_count": 45,
   "metadata": {},
   "outputs": [
    {
     "data": {
      "text/plain": [
       "0.3333333333333333"
      ]
     },
     "execution_count": 45,
     "metadata": {},
     "output_type": "execute_result"
    }
   ],
   "source": [
    "# calculate the probability that, given a positive result, the person is a sufferer\n",
    "\n",
    "S_GIVEN_T = (S*T_GIVEN_S)/T\n",
    "S_GIVEN_T"
   ]
  },
  {
   "cell_type": "code",
   "execution_count": 50,
   "metadata": {},
   "outputs": [
    {
     "data": {
      "text/plain": [
       "0.9923958333333335"
      ]
     },
     "execution_count": 50,
     "metadata": {},
     "output_type": "execute_result"
    }
   ],
   "source": [
    "# calculate the probability that, given a negative result, the person is a non-sufferer\n",
    "\n",
    "NS_GIVEN_NT = (NS*NT_GIVEN_NS)/NT\n",
    "NS_GIVEN_NT"
   ]
  },
  {
   "cell_type": "code",
   "execution_count": 54,
   "metadata": {},
   "outputs": [
    {
     "data": {
      "text/plain": [
       "0.15000000000000005"
      ]
     },
     "execution_count": 54,
     "metadata": {},
     "output_type": "execute_result"
    }
   ],
   "source": [
    "# calculate the probability that the person will be misclassified\n",
    "\n",
    "M = (T_GIVEN_NS + NT_GIVEN_S)\n",
    "M"
   ]
  },
  {
   "cell_type": "code",
   "execution_count": 52,
   "metadata": {},
   "outputs": [],
   "source": [
    "n_runs = 10000\n",
    "T = 0\n",
    "NT = 0\n",
    "S = 0\n",
    "NS = 0\n",
    "M = 0\n",
    "TS = 0\n",
    "TNS = 0\n",
    "NTNS = 0\n",
    "NTS = 0\n",
    "\n",
    "for _ in range(n_runs):\n",
    "    if np.random.random() < 0.05:\n",
    "        S += 1\n",
    "        \n",
    "        if np.random.random() < 0.95:\n",
    "            TS += 1\n",
    "            T += 1\n",
    "            \n",
    "        else:\n",
    "            NTS += 1\n",
    "            NT += 1\n",
    "            \n",
    "    else:\n",
    "        NS += 1\n",
    "        \n",
    "        if np.random.random() <= 0.1:\n",
    "            TNS += 1\n",
    "            T += 1\n",
    "            \n",
    "        else:\n",
    "            NTNS += 1\n",
    "            NT += 1"
   ]
  },
  {
   "cell_type": "code",
   "execution_count": 53,
   "metadata": {},
   "outputs": [
    {
     "name": "stdout",
     "output_type": "stream",
     "text": [
      "Probability of testing postive: 14.11%\n",
      "Probability of being a sufferer given a positive test: 32.742735648476256%\n",
      "Probability of being a non-sufferer given a negative test: 99.80207241820935%\n",
      "Probability of being misclassified: 9.66%\n"
     ]
    }
   ],
   "source": [
    "P_T = T / n_runs * 100\n",
    "P_S_GIVEN_T = TS / T * 100\n",
    "P_NS_GIVEN_NT = NTNS / NT * 100\n",
    "P_M = (NTS + TNS) / n_runs * 100\n",
    "print(f'Probability of testing postive: {P_T}%')\n",
    "print(f'Probability of being a sufferer given a positive test: {P_S_GIVEN_T}%')\n",
    "print(f'Probability of being a non-sufferer given a negative test: {P_NS_GIVEN_NT}%')\n",
    "print(f'Probability of being misclassified: {P_M}%')"
   ]
  },
  {
   "cell_type": "code",
   "execution_count": null,
   "metadata": {},
   "outputs": [],
   "source": []
  }
 ],
 "metadata": {
  "kernelspec": {
   "display_name": "Python 3 (ipykernel)",
   "language": "python",
   "name": "python3"
  },
  "language_info": {
   "codemirror_mode": {
    "name": "ipython",
    "version": 3
   },
   "file_extension": ".py",
   "mimetype": "text/x-python",
   "name": "python",
   "nbconvert_exporter": "python",
   "pygments_lexer": "ipython3",
   "version": "3.9.12"
  },
  "toc": {
   "base_numbering": 1,
   "nav_menu": {},
   "number_sections": true,
   "sideBar": true,
   "skip_h1_title": false,
   "title_cell": "Table of Contents",
   "title_sidebar": "Contents",
   "toc_cell": false,
   "toc_position": {},
   "toc_section_display": true,
   "toc_window_display": false
  },
  "varInspector": {
   "cols": {
    "lenName": 16,
    "lenType": 16,
    "lenVar": 40
   },
   "kernels_config": {
    "python": {
     "delete_cmd_postfix": "",
     "delete_cmd_prefix": "del ",
     "library": "var_list.py",
     "varRefreshCmd": "print(var_dic_list())"
    },
    "r": {
     "delete_cmd_postfix": ") ",
     "delete_cmd_prefix": "rm(",
     "library": "var_list.r",
     "varRefreshCmd": "cat(var_dic_list()) "
    }
   },
   "types_to_exclude": [
    "module",
    "function",
    "builtin_function_or_method",
    "instance",
    "_Feature"
   ],
   "window_display": false
  }
 },
 "nbformat": 4,
 "nbformat_minor": 4
}
