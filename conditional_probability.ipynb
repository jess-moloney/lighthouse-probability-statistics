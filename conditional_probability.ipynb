{
 "cells": [
  {
   "cell_type": "markdown",
   "id": "b78ec635-19a1-4c3b-b771-521130e927c1",
   "metadata": {},
   "source": [
    "# Soccer Game"
   ]
  },
  {
   "cell_type": "code",
   "execution_count": 1,
   "id": "68f5e323-f1cd-4d89-a21a-2e481654be5f",
   "metadata": {},
   "outputs": [],
   "source": [
    "import numpy as np"
   ]
  },
  {
   "cell_type": "code",
   "execution_count": 2,
   "id": "2a55cec0-7d81-4a89-a370-935ffa61be22",
   "metadata": {},
   "outputs": [],
   "source": [
    "# how many times we run the simulation\n",
    "n_runs = 100000\n",
    "\n",
    "# initialize variables\n",
    "SAM = 0\n",
    "SAM_YES = 0\n",
    "SAM_NO = 0\n",
    "ALEX = 0\n",
    "ALEX_YES = 0\n",
    "ALEX_NO = 0\n",
    "YES = 0\n",
    "NO = 0"
   ]
  },
  {
   "cell_type": "code",
   "execution_count": 3,
   "id": "bc487da0-1c94-4875-bf6e-385567b06bc0",
   "metadata": {},
   "outputs": [],
   "source": [
    "# process simulation\n",
    "for _ in range(n_runs):\n",
    "    # Sam (probability of Sam being the coach)\n",
    "    if np.random.random() < 0.6:\n",
    "        SAM += 1\n",
    "        \n",
    "        #YES\n",
    "        if np.random.random() < 0.5:\n",
    "            SAM_YES += 1\n",
    "            YES += 1\n",
    "            \n",
    "        #NO\n",
    "        else:\n",
    "            SAM_NO += 1\n",
    "            NO += 1\n",
    "    \n",
    "     #Alex (probability of Alex being the coach)\n",
    "    else:\n",
    "        ALEX += 1\n",
    "        \n",
    "        #YES\n",
    "        if np.random.random() < 0.3:\n",
    "            ALEX_YES += 1\n",
    "            YES += 1\n",
    "            \n",
    "        #NO\n",
    "        else:\n",
    "            ALEX_NO += 1\n",
    "            NO += 1\n",
    "            \n",
    "    "
   ]
  },
  {
   "cell_type": "code",
   "execution_count": 4,
   "id": "ed28a2f1-cb66-4337-8f6e-5e409613c704",
   "metadata": {},
   "outputs": [],
   "source": [
    "# create probabilities\n",
    "P_SAM = SAM / n_runs * 100\n",
    "P_SAM_YES = SAM_YES / n_runs * 100\n",
    "P_SAM_NO = SAM_NO / n_runs * 100\n",
    "P_ALEX = ALEX / n_runs * 100\n",
    "P_ALEX_YES = ALEX_YES / n_runs * 100\n",
    "P_ALEX_NO = ALEX_NO / n_runs * 100\n",
    "P_YES = YES / n_runs * 100\n",
    "P_NO = NO / n_runs * 100"
   ]
  },
  {
   "cell_type": "code",
   "execution_count": 5,
   "id": "f30fc9fe-6c77-4861-9804-a6206f6f3e83",
   "metadata": {},
   "outputs": [
    {
     "name": "stdout",
     "output_type": "stream",
     "text": [
      "Sam is the coach: 59.943000000000005%\n",
      "Sam is the coach and you are the goalkeeper: 29.913%\n",
      "Sam is the coach and you are not the goalkeeper: 30.03%\n",
      "Alex is the coach: 40.056999999999995%\n",
      "Alex is the coach and you are the goalkeeper: 12.054%\n",
      "Alex is the coach and you are not the goalkeeper: 28.003%\n",
      "You are the goalkeeper: 41.967%\n",
      "You are not the goalkeeper: 58.033%\n"
     ]
    }
   ],
   "source": [
    "# print the probabilities\n",
    "print(f'Sam is the coach: {P_SAM}%')\n",
    "print(f'Sam is the coach and you are the goalkeeper: {P_SAM_YES}%')\n",
    "print(f'Sam is the coach and you are not the goalkeeper: {P_SAM_NO}%')\n",
    "print(f'Alex is the coach: {P_ALEX}%')\n",
    "print(f'Alex is the coach and you are the goalkeeper: {P_ALEX_YES}%')\n",
    "print(f'Alex is the coach and you are not the goalkeeper: {P_ALEX_NO}%')\n",
    "print(f'You are the goalkeeper: {P_YES}%')\n",
    "print(f'You are not the goalkeeper: {P_NO}%')"
   ]
  },
  {
   "cell_type": "code",
   "execution_count": 6,
   "id": "fb6f0c03-8a5d-4e85-b66c-7177c27cde73",
   "metadata": {},
   "outputs": [
    {
     "data": {
      "text/plain": [
       "0.7127743226821074"
      ]
     },
     "execution_count": 6,
     "metadata": {},
     "output_type": "execute_result"
    }
   ],
   "source": [
    "# P(Sam | goalkeeper)\n",
    "P_SAM_GIVEN_YES = P_SAM_YES / P_YES\n",
    "P_SAM_GIVEN_YES"
   ]
  },
  {
   "cell_type": "code",
   "execution_count": null,
   "id": "faa1c97c-245b-4808-83b3-f7505f84146b",
   "metadata": {},
   "outputs": [],
   "source": []
  }
 ],
 "metadata": {
  "kernelspec": {
   "display_name": "Python 3 (ipykernel)",
   "language": "python",
   "name": "python3"
  },
  "language_info": {
   "codemirror_mode": {
    "name": "ipython",
    "version": 3
   },
   "file_extension": ".py",
   "mimetype": "text/x-python",
   "name": "python",
   "nbconvert_exporter": "python",
   "pygments_lexer": "ipython3",
   "version": "3.9.12"
  }
 },
 "nbformat": 4,
 "nbformat_minor": 5
}
