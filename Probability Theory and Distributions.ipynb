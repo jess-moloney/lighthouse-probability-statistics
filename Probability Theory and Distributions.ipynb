{
 "cells": [
  {
   "cell_type": "markdown",
   "id": "051816d6-69e0-4b38-b72a-dceb7b3afef6",
   "metadata": {},
   "source": [
    "# Probability Theory and Distributions"
   ]
  },
  {
   "cell_type": "code",
   "execution_count": 3,
   "id": "084cc196-4f25-4279-891e-d421a092e06f",
   "metadata": {},
   "outputs": [],
   "source": [
    "import numpy as np\n",
    "import matplotlib.pyplot as plt\n",
    "from collections import Counter\n",
    "\n",
    "plt.style.use('fivethirtyeight')"
   ]
  },
  {
   "cell_type": "code",
   "execution_count": 4,
   "id": "b4448bae-ea4d-43aa-a818-40576fa03f72",
   "metadata": {},
   "outputs": [
    {
     "data": {
      "text/plain": [
       "0.13099158806935773"
      ]
     },
     "execution_count": 4,
     "metadata": {},
     "output_type": "execute_result"
    }
   ],
   "source": [
    "random_num = np.random.random()\n",
    "random_num"
   ]
  },
  {
   "cell_type": "code",
   "execution_count": 5,
   "id": "256f02ca-6d74-4e74-9698-96c504a5df7f",
   "metadata": {},
   "outputs": [
    {
     "data": {
      "text/plain": [
       "array([0.96994032, 0.55681615, 0.00883969, 0.63733439])"
      ]
     },
     "execution_count": 5,
     "metadata": {},
     "output_type": "execute_result"
    }
   ],
   "source": [
    "random_num = np.random.random(4) # generate 4 random numbers from the interval  <0,1)\n",
    "random_num"
   ]
  },
  {
   "cell_type": "code",
   "execution_count": 6,
   "id": "c896d5d4-a713-408b-b932-bc6bd280eedf",
   "metadata": {},
   "outputs": [],
   "source": [
    "np.random.seed(42) # this sets the seed to number 42"
   ]
  },
  {
   "cell_type": "markdown",
   "id": "4644555c-7ca3-4ad8-b844-a0600fb29d9b",
   "metadata": {},
   "source": [
    "### Binomial Distribution (Discrete Distribution)"
   ]
  },
  {
   "cell_type": "code",
   "execution_count": 7,
   "id": "7676b772-5a84-48a3-9378-348ab35a8f1c",
   "metadata": {},
   "outputs": [
    {
     "data": {
      "text/plain": [
       "array([ 4,  8,  6,  5,  3,  3,  3,  7,  5,  6,  2,  8,  7,  4,  4,  4,  4,\n",
       "        5,  5,  4,  5,  3,  4,  4,  5,  6,  4,  5,  5,  2,  5,  3,  3,  8,\n",
       "        8,  6,  4,  3,  6,  5,  3,  5,  2,  7,  4,  6,  4,  5,  5,  4,  8,\n",
       "        6,  7,  7,  5,  7,  3,  4,  2,  4,  5,  4,  7,  4,  4,  5,  3,  6,\n",
       "        3,  8,  6,  4,  1,  6,  6,  6,  6,  3,  4,  3,  7,  6,  4,  3,  4,\n",
       "        4,  6,  6,  7,  5,  3,  6,  6,  5,  6,  5,  5,  5,  2,  3,  2,  6,\n",
       "        4,  5,  7,  4,  5,  6,  4,  3,  4,  3,  7,  6,  6,  7,  6,  4,  7,\n",
       "        5,  6,  7,  4,  3,  4,  5,  6,  7,  1,  5,  5,  4,  3,  4,  7,  4,\n",
       "        5,  6,  4,  8,  8,  4,  5,  4,  4,  2,  5,  5,  2,  4,  7,  4,  3,\n",
       "        5,  8,  4,  6,  6,  4,  6,  4,  6,  6,  5,  3,  7,  4,  4,  2,  5,\n",
       "        6,  2,  5,  4,  6,  4,  6,  5,  7,  3,  4,  3,  7,  7,  4,  6,  6,\n",
       "        5,  5,  4,  3,  7,  7,  6,  4,  4,  6,  7,  7,  6,  6,  3,  3,  7,\n",
       "        5,  1,  3,  6,  1,  3,  5,  6,  6,  4,  6,  4,  4,  6,  6,  7,  6,\n",
       "        5,  3,  4,  4,  4,  8,  5,  7,  6,  6,  5,  5,  5,  4,  6,  4,  2,\n",
       "        6,  4,  7,  8,  7,  4,  2,  7,  5,  8,  8,  7,  4,  5,  7,  4,  3,\n",
       "        5,  7,  6,  5,  3,  5,  9,  3,  5,  7,  6,  6,  6,  4,  4,  6,  6,\n",
       "        7,  7,  5,  5,  6,  6,  6,  6,  7,  4,  4,  3,  5,  2,  5,  5,  4,\n",
       "        5,  2,  2,  6,  4,  3,  5,  6,  4,  5,  3,  2,  5,  5,  6,  6,  8,\n",
       "        5,  4,  6,  4,  5,  3,  2,  8,  7,  6,  5,  4,  3,  4,  5,  6,  6,\n",
       "        4,  8,  6,  5,  5,  5,  4,  4,  6,  2,  3,  2,  2,  7,  6,  5,  3,\n",
       "        5,  5,  4,  5,  5,  5,  6,  2,  4,  6,  5,  7,  6,  3,  3,  6,  2,\n",
       "        5,  7,  5,  5,  6,  5,  5,  7,  5,  8,  7,  4,  3,  3,  2,  3,  6,\n",
       "        3,  4,  7,  2,  6,  4,  3,  6,  6,  7,  6,  6,  4,  4,  6,  6,  9,\n",
       "        5,  4,  6,  4,  7,  7,  5,  6,  6,  3,  7,  5,  6,  4,  7,  5,  2,\n",
       "        7,  3,  4,  8,  8,  5,  6,  5,  4,  4,  6,  6,  6,  6,  3,  5,  3,\n",
       "        5,  5,  7,  4,  3,  3,  6,  5,  3,  3,  6,  3,  6,  6,  3,  3,  8,\n",
       "        4,  4,  6,  8,  8,  6,  4,  3,  6,  5,  5,  7,  3,  5,  2,  5,  3,\n",
       "        3,  3,  6,  6,  5,  8,  4,  4,  7,  4,  8,  2,  8,  2,  7,  5,  9,\n",
       "        3,  5,  8,  5,  6,  6,  5,  6,  5,  7,  2,  4,  8,  7,  5,  5,  4,\n",
       "        4,  5,  4,  5,  3,  8,  8,  6,  5,  4,  6,  6,  3,  7,  6,  8,  6,\n",
       "        5,  5,  7,  7,  2,  2,  4,  6,  8,  3,  5,  5,  8,  7,  7,  5,  5,\n",
       "        4,  3,  7,  6, 10,  9,  5,  6,  7,  7,  4,  5,  3,  8,  5,  4,  6,\n",
       "        5,  4,  3,  6,  5,  6,  5,  7,  5,  5,  7,  5,  3,  2,  6,  5,  6,\n",
       "        4,  3,  2,  4,  5,  5,  5,  7,  4,  5,  6,  5,  5,  7,  8,  3,  7,\n",
       "        5,  4,  5,  8,  5,  4,  6,  4,  3,  3,  3,  3,  3,  6,  4,  4,  7,\n",
       "        5,  6,  4,  4,  2,  3,  4,  4,  3,  3,  5,  4,  4,  5,  6,  2,  6,\n",
       "        6,  3,  7,  7,  3,  4,  6,  6,  4,  4,  4,  5,  5,  4,  5,  6,  2,\n",
       "        4,  6,  7,  5,  5,  3,  5,  5,  4,  4,  5,  2,  4,  4,  4,  3,  7,\n",
       "        5,  6,  6,  5,  3,  5,  5,  6,  5,  3,  4,  4,  6,  5,  4,  8,  5,\n",
       "        4,  3,  3,  4,  3,  4,  4,  4,  7,  3,  5,  5,  8,  3,  5,  8,  7,\n",
       "        6,  4,  3,  6,  7,  5,  5,  4,  6,  4,  4,  5,  5,  4,  3,  5,  4,\n",
       "        5,  3,  5,  5,  2,  4,  3,  3,  9,  4,  6,  4,  6,  6,  5,  5,  5,\n",
       "        4,  7,  7,  8,  3,  6,  7,  4,  3,  6,  5,  7,  3,  6,  4,  3,  3,\n",
       "        6,  6,  5,  4,  7,  5,  6,  5,  4,  5,  4,  6,  5,  4,  7,  5,  5,\n",
       "        7,  6,  3,  7,  6,  4,  3,  6,  5,  5,  7,  6,  3,  4,  4,  6,  2,\n",
       "        5,  6,  7,  4,  6,  3,  7,  3,  5,  6,  3,  4,  6,  6,  6,  6,  5,\n",
       "        4,  4,  4,  7,  5,  5,  5,  8,  3,  5,  5,  5,  2,  7,  7,  5,  6,\n",
       "        7,  6,  3,  5,  5,  5,  6,  7,  7,  5,  3,  8,  7,  3,  7,  7,  5,\n",
       "        5,  5,  3,  4,  6,  1,  4,  5,  5,  7,  4,  4,  6,  5,  4,  5,  3,\n",
       "        4,  5,  5,  7,  4,  5,  6,  2,  6,  4,  8,  3,  5,  3,  9,  5,  5,\n",
       "        3,  6,  4,  7,  4,  4,  2,  5,  5,  3,  6,  5,  5,  5,  5,  5,  3,\n",
       "        4,  7,  8,  4,  4,  6,  5,  2,  3,  6,  6,  2,  4,  4,  6,  2,  3,\n",
       "        6,  4,  6,  4,  3,  4,  6,  7,  7,  5,  6,  4,  4,  7,  2,  3,  4,\n",
       "        2,  4,  5,  5,  7,  6,  4,  4,  5,  5,  4,  6,  5,  5,  5,  4,  8,\n",
       "        6,  3,  7,  5,  7,  6,  5,  2,  4,  5,  6,  4,  3,  7,  8,  5,  3,\n",
       "        4,  2,  7,  3,  5,  4,  5,  6,  7,  4,  2,  3,  7,  7,  5,  5,  6,\n",
       "        4,  7,  5,  5,  5,  2,  3,  6,  3,  5,  4,  5,  4,  4,  6,  4,  5,\n",
       "        5,  6,  7,  6,  4,  2,  4,  5,  2,  5,  5,  4,  6,  3,  3,  6,  5,\n",
       "        6,  5,  4,  6,  6,  6,  4,  5,  4,  3,  7,  3,  8,  5])"
      ]
     },
     "execution_count": 7,
     "metadata": {},
     "output_type": "execute_result"
    }
   ],
   "source": [
    "# n = the number of coin tosses\n",
    "# p = the probability of getting heads\n",
    "# size = the number of repeats \n",
    "\n",
    "n = 10\n",
    "p = 0.5\n",
    "size = 1000\n",
    "\n",
    "samples = np.random.binomial(n,p,size)\n",
    "samples"
   ]
  },
  {
   "cell_type": "code",
   "execution_count": 8,
   "id": "ccbe967a-5277-4b40-aa4d-cc917c0d7e02",
   "metadata": {},
   "outputs": [],
   "source": [
    "# count the occurrence of each number\n",
    "head_occu_count = Counter(samples)"
   ]
  },
  {
   "cell_type": "code",
   "execution_count": 10,
   "id": "c89c7b9f-1d18-4330-92ba-7d832f7962ee",
   "metadata": {},
   "outputs": [],
   "source": [
    "# calculate the probabilities as the number of occurences / size\n",
    "head_proba = [val/size for val in head_occu_count.values()]"
   ]
  },
  {
   "cell_type": "code",
   "execution_count": 11,
   "id": "e3004ac7-2b33-4301-9c27-f82adfc2497e",
   "metadata": {},
   "outputs": [
    {
     "data": {
      "image/png": "[encoded data removed]",
      "text/plain": [
       "<Figure size 432x288 with 1 Axes>"
      ]
     },
     "metadata": {},
     "output_type": "display_data"
    }
   ],
   "source": [
    "# plot the distribution\n",
    "plt.scatter(x=head_occu_count.keys(),y=head_proba)\n",
    "plt.xlabel('number of heads out of 10 tosses')\n",
    "plt.ylabel('probability')\n",
    "\n",
    "# show the plot\n",
    "plt.show()"
   ]
  },
  {
   "cell_type": "markdown",
   "id": "adb2adb1-d979-49e4-b3f3-cced0d27d859",
   "metadata": {},
   "source": [
    "### Normal Distribution (Continuous Distribution)"
   ]
  },
  {
   "cell_type": "code",
   "execution_count": 13,
   "id": "c10f892e-1da0-4709-910a-91870ae96d38",
   "metadata": {},
   "outputs": [],
   "source": [
    "# loc = mean (“a centre”) of the distribution.\n",
    "# scale = standard deviation (a spread or “a width”) of the distribution.\n",
    "\n",
    "samples = np.random.normal(loc = 0, scale = 1, size = 1000000)"
   ]
  },
  {
   "cell_type": "code",
   "execution_count": 15,
   "id": "1e6b8a12-9547-46c4-99a3-b3f824a5b24f",
   "metadata": {},
   "outputs": [
    {
     "data": {
      "image/png": "[encoded data removed]",
      "text/plain": [
       "<Figure size 432x288 with 1 Axes>"
      ]
     },
     "metadata": {},
     "output_type": "display_data"
    }
   ],
   "source": [
    "plt.hist(samples, density=True, histtype=\"step\", bins=100)\n",
    "\n",
    "# show the plot\n",
    "plt.show()"
   ]
  },
  {
   "cell_type": "code",
   "execution_count": 17,
   "id": "b9e8f434-1a67-4bb0-8cdb-ab77748b4087",
   "metadata": {},
   "outputs": [
    {
     "data": {
      "image/png": "[encoded data removed]",
      "text/plain": [
       "<Figure size 432x288 with 1 Axes>"
      ]
     },
     "metadata": {},
     "output_type": "display_data"
    }
   ],
   "source": [
    "samples_std1 = np.random.normal(20,1,size=1000000)\n",
    "samples_std3 = np.random.normal(20,3,size=1000000)\n",
    "samples_std10 = np.random.normal(20,10,size=1000000)\n",
    "\n",
    "# make histograms\n",
    "plt.hist(samples_std1,density=True,histtype = \"step\",bins=100)\n",
    "plt.hist(samples_std3,density=True,histtype = \"step\",bins=100)\n",
    "plt.hist(samples_std10,density=True,histtype = \"step\",bins=100)\n",
    "\n",
    "# make a legend, set limits, and show the plot\n",
    "plt.legend(('std = 1', 'std = 3', 'std = 10'))\n",
    "plt.ylim(-.01,0.42)\n",
    "plt.show()"
   ]
  },
  {
   "cell_type": "code",
   "execution_count": 19,
   "id": "45a09c6f-7560-48d8-b51b-9d6580b8e324",
   "metadata": {},
   "outputs": [
    {
     "data": {
      "image/png": "[encoded data removed]",
      "text/plain": [
       "<Figure size 432x288 with 1 Axes>"
      ]
     },
     "metadata": {},
     "output_type": "display_data"
    }
   ],
   "source": [
    "samples_mean10 = np.random.normal(10,3,size=1000000)\n",
    "samples_mean20 = np.random.normal(20,3,size=1000000)\n",
    "samples_mean30 = np.random.normal(30,3,size=1000000)\n",
    "\n",
    "# make histograms\n",
    "plt.hist(samples_mean10, density=True, histtype=\"step\", bins=100)\n",
    "plt.hist(samples_mean20, density=True, histtype=\"step\", bins=100)\n",
    "plt.hist(samples_mean30, density=True, histtype=\"step\", bins=100)\n",
    "\n",
    "# make a legend, set limits, and show the plot\n",
    "plt.legend(('mean 10', 'mean 20', 'mean 30'))\n",
    "plt.ylim(-.01,.42)\n",
    "plt.show()"
   ]
  },
  {
   "cell_type": "markdown",
   "id": "cc9e9604-54e7-4a61-93df-05f61cafbbe9",
   "metadata": {},
   "source": [
    "### Uniform Distribution"
   ]
  },
  {
   "cell_type": "code",
   "execution_count": 21,
   "id": "81cb21d8-b8a7-4879-854d-7ddd03cfb4f9",
   "metadata": {},
   "outputs": [
    {
     "data": {
      "image/png": "[encoded data removed]",
      "text/plain": [
       "<Figure size 432x288 with 1 Axes>"
      ]
     },
     "metadata": {},
     "output_type": "display_data"
    }
   ],
   "source": [
    "samples = np.random.uniform(1,10,1000)\n",
    "\n",
    "plt.hist(samples,20)\n",
    "\n",
    "plt.show()"
   ]
  },
  {
   "cell_type": "code",
   "execution_count": null,
   "id": "eaa0a362-338e-4a1e-babc-dd3650f47604",
   "metadata": {},
   "outputs": [],
   "source": []
  }
 ],
 "metadata": {
  "kernelspec": {
   "display_name": "Python 3 (ipykernel)",
   "language": "python",
   "name": "python3"
  },
  "language_info": {
   "codemirror_mode": {
    "name": "ipython",
    "version": 3
   },
   "file_extension": ".py",
   "mimetype": "text/x-python",
   "name": "python",
   "nbconvert_exporter": "python",
   "pygments_lexer": "ipython3",
   "version": "3.9.12"
  }
 },
 "nbformat": 4,
 "nbformat_minor": 5
}
