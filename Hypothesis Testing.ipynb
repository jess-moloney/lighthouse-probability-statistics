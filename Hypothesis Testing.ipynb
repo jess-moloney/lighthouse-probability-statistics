{
 "cells": [
  {
   "cell_type": "markdown",
   "id": "63c0caf5-3787-4f31-afc2-f6f7664fcf0a",
   "metadata": {},
   "source": [
    "# Hypothesis Testing Simulation"
   ]
  },
  {
   "cell_type": "code",
   "execution_count": 1,
   "id": "cb161034-64e7-4320-84fa-4a6a10c9dbbb",
   "metadata": {},
   "outputs": [],
   "source": [
    "# import numpy\n",
    "import numpy as np\n",
    "\n",
    "# set a random seed to replicate results\n",
    "np.random.seed(42)"
   ]
  },
  {
   "cell_type": "code",
   "execution_count": 2,
   "id": "84a4ae81-3484-4cc8-ab1e-b489305f6c5e",
   "metadata": {},
   "outputs": [],
   "source": [
    "# sales history in days\n",
    "history = 365"
   ]
  },
  {
   "cell_type": "code",
   "execution_count": 3,
   "id": "b6e2b521-c5eb-4d11-a803-77ffa2f2fcee",
   "metadata": {},
   "outputs": [],
   "source": [
    "# generate one-year sales for store A\n",
    "mean_A = 20\n",
    "std_A = 5\n",
    "shop_A_sales = np.random.normal(mean_A, std_A, history)\n",
    "\n",
    "# generate one-year sales for store B\n",
    "mean_B = 19.5\n",
    "std_B = 5\n",
    "shop_B_sales = np.random.normal(mean_B, std_B, history)"
   ]
  },
  {
   "cell_type": "code",
   "execution_count": 4,
   "id": "33a48397-10cf-4599-b46c-930d4378003b",
   "metadata": {},
   "outputs": [],
   "source": [
    "# We will be testing the following hypothesis: * H0 = the mean of sales of shop A equals to the mean of sales of shop B (i.e. the difference between the sales is equal to zero) * HA = the means are not equal"
   ]
  },
  {
   "cell_type": "code",
   "execution_count": 5,
   "id": "4c65ef81-4896-4640-a0ac-14c4011e434d",
   "metadata": {},
   "outputs": [],
   "source": [
    "# set the significance level\n",
    "alpha = 0.05"
   ]
  },
  {
   "cell_type": "code",
   "execution_count": 6,
   "id": "a5d50549-8786-4009-9b83-db801e00abbc",
   "metadata": {},
   "outputs": [
    {
     "name": "stdout",
     "output_type": "stream",
     "text": [
      "20.04973201106029\n",
      "19.309929401404304\n"
     ]
    }
   ],
   "source": [
    "# print the store A mean\n",
    "print(shop_A_sales.mean())\n",
    "\n",
    "# print the store B mean\n",
    "print(shop_B_sales.mean())"
   ]
  },
  {
   "cell_type": "code",
   "execution_count": 7,
   "id": "41b5948c-8676-427c-9d59-845b55100d38",
   "metadata": {},
   "outputs": [
    {
     "name": "stdout",
     "output_type": "stream",
     "text": [
      "0.7398026096559853\n"
     ]
    }
   ],
   "source": [
    "# the differnce in the means\n",
    "observed_means_diff = shop_A_sales.mean() - shop_B_sales.mean()\n",
    "print(observed_means_diff)"
   ]
  },
  {
   "cell_type": "code",
   "execution_count": 8,
   "id": "bdcf6c98-1550-449d-9eb7-01c68f0d9e91",
   "metadata": {},
   "outputs": [],
   "source": [
    "both_sales = np.concatenate((shop_A_sales, shop_B_sales))"
   ]
  },
  {
   "cell_type": "code",
   "execution_count": 9,
   "id": "08eb7aee-bed0-4f7b-a168-4ba38f17d10d",
   "metadata": {},
   "outputs": [],
   "source": [
    "# permutation\n",
    "sales_perm = np.random.permutation(both_sales)\n",
    "\n",
    "# permutation replicates\n",
    "perm_shop_A_sales = sales_perm[:len(shop_A_sales)]\n",
    "perm_shop_B_sales = sales_perm[len(shop_A_sales):]"
   ]
  },
  {
   "cell_type": "code",
   "execution_count": 10,
   "id": "a5c14ed5-12f1-4eaa-8d38-38dcb8e96e2f",
   "metadata": {},
   "outputs": [
    {
     "name": "stdout",
     "output_type": "stream",
     "text": [
      "0.21098789154327235\n"
     ]
    }
   ],
   "source": [
    "print(perm_shop_A_sales.mean() - perm_shop_B_sales.mean())"
   ]
  },
  {
   "cell_type": "code",
   "execution_count": 11,
   "id": "3c018f45-1450-4f85-9f1a-c50b2c57fcd5",
   "metadata": {},
   "outputs": [],
   "source": [
    "# create an empty list to store the permutation replicates means\n",
    "perm_repl_means = []\n",
    "\n",
    "for _ in range(1000):\n",
    "    # permutation\n",
    "    sales_perm = np.random.permutation(both_sales)\n",
    "    \n",
    "     # permutation replicates \n",
    "    perm_shop_A_sales = sales_perm[:len(shop_A_sales)]\n",
    "    perm_shop_B_sales = sales_perm[len(shop_A_sales):]\n",
    "    \n",
    "    # permutation replicates mean\n",
    "    perm_repl_mean = perm_shop_A_sales.mean() - perm_shop_B_sales.mean()\n",
    "    \n",
    "    # append perm_repl_mean to list\n",
    "    perm_repl_means.append(perm_repl_mean)"
   ]
  },
  {
   "cell_type": "code",
   "execution_count": 12,
   "id": "51f1c8c5-4bde-4fdf-9560-efb7458b82bc",
   "metadata": {},
   "outputs": [
    {
     "name": "stdout",
     "output_type": "stream",
     "text": [
      "p-value =  0.043\n"
     ]
    }
   ],
   "source": [
    "# compute the p-value\n",
    "p = np.sum(np.abs(perm_repl_means) >= observed_means_diff) / len(perm_repl_means)\n",
    "\n",
    "# print the result\n",
    "print('p-value = ', p)"
   ]
  },
  {
   "cell_type": "code",
   "execution_count": 13,
   "id": "18b2f601-035c-4951-9485-a0f9c436925b",
   "metadata": {},
   "outputs": [
    {
     "name": "stdout",
     "output_type": "stream",
     "text": [
      "H0 is rejected.\n"
     ]
    }
   ],
   "source": [
    "# final decision\n",
    "if p < alpha:\n",
    "    print('H0 is rejected.')\n",
    "else:\n",
    "    print('H0 is not rejected.')"
   ]
  },
  {
   "cell_type": "code",
   "execution_count": null,
   "id": "ae2c7111-59e6-4976-af35-0dabaa6f0ce2",
   "metadata": {},
   "outputs": [],
   "source": []
  }
 ],
 "metadata": {
  "kernelspec": {
   "display_name": "Python 3 (ipykernel)",
   "language": "python",
   "name": "python3"
  },
  "language_info": {
   "codemirror_mode": {
    "name": "ipython",
    "version": 3
   },
   "file_extension": ".py",
   "mimetype": "text/x-python",
   "name": "python",
   "nbconvert_exporter": "python",
   "pygments_lexer": "ipython3",
   "version": "3.9.12"
  }
 },
 "nbformat": 4,
 "nbformat_minor": 5
}
